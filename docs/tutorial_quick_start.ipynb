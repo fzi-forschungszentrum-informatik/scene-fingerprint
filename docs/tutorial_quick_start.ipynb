{
 "cells": [
  {
   "cell_type": "markdown",
   "metadata": {},
   "source": [
    "# Quickstart\n",
    "For the predictive calculation of the current ciritcality status of multiple traffic participants i.e. a traffic scene, future paths of the vehicles and their current state are of high importantness.  \n",
    "\n",
    "For the estimation of the future paths the underlying road map is used. In the case no road information is supplied, the road geometry is treated as an unstructured space and the future paths are represented as straight lines.  \n",
    "*(Using the calculation without any road information might affect the transferability of the results.)*"
   ]
  },
  {
   "cell_type": "code",
   "execution_count": null,
   "metadata": {},
   "outputs": [],
   "source": [
    "from oncrit.utils.helpers import generate_metric_base"
   ]
  },
  {
   "cell_type": "markdown",
   "metadata": {},
   "source": [
    "In the next step, the object lists in csv format and the map information in lanelet format are specified as the file path.  \n",
    "Since the lanelet map is referenced in geodetic coordinates, a reference point (map_origin: lat, lon) is required to align it with the metric object list format.  \n",
    "*Only lanelet is currently supported as map format.*"
   ]
  },
  {
   "cell_type": "code",
   "execution_count": null,
   "metadata": {},
   "outputs": [],
   "source": [
    "object_list_file = \"../tests/data/tracks_cam1_interpolated.csv\"\n",
    "osm_map = \"../tests/data/k729_2022-03-16_fix.osm\"\n",
    "map_origin = (49.01160993928274, 8.43856470258739)"
   ]
  },
  {
   "cell_type": "markdown",
   "metadata": {},
   "source": [
    "\n",
    "The scene information in form of an object list and the `case_id` + `frame_id`  is fed into the `generate_metric_base` helper which merges the traffic participants' states with the potential trajectory information. This step can also be done manually if the helper does not match the required dependency.\n",
    "\n",
    "The `threshold` parameter (in m) is required for s-t metrics to determine how close a vehicle must be to the future path to be considered relevant. The higher the value, the more vehicles will be taken into account. If it is too high, vehicles that are not on the same track could be included and this could lead to false results. (Rule of thumb: `threshold ~ lane_width / 1.5`)\n",
    "\n",
    "[Metrics](docs/metrics_explanation.md) can be calculated by calling the corresponding member function of the `metric_base`. The criticality information is returned in the coordinate-format (triplet format):\n",
    "\n",
    "```\n",
    "[\n",
    "    (vehicle_ID_A, vehicle_ID_B, metric_value)`,\n",
    "    (vehicle_ID_A, vehicle_ID_C, metric_value)`,\n",
    "    (vehicle_ID_F, vehicle_ID_G, metric_value)`,\n",
    "    ...\n",
    "]\n",
    "```\n",
    "\n",
    "If you are confronted with results that do not match your expectations, check the consistency of your data and [common pitfals](tutorial_test_your_data.ipynb)."
   ]
  },
  {
   "cell_type": "code",
   "execution_count": null,
   "metadata": {},
   "outputs": [],
   "source": [
    "metric_base = generate_metric_base(\n",
    "    object_list_file=object_list_file, frame_id=1689, case_id=None, map_file=osm_map, map_origin=map_origin)\n",
    "\n",
    "threshold = 2.5\n",
    "\n",
    "print(\"EuclideanDistanceSimple\", metric_base.euclidean_distance_simple())\n",
    "print(\"EuclideanDistanceApproximated\", metric_base.euclidean_distance_approximated())\n",
    "print(\"TTC\", metric_base.ttc(threshold))\n",
    "print(\"Headway\", metric_base.headway(threshold))\n",
    "print(\"Gaptime\", metric_base.gaptime(threshold))\n",
    "print(\"Clearance\", metric_base.clearance(threshold))\n",
    "print(\"Spacing\", metric_base.spacing(threshold))\n",
    "print(\"PPET\", metric_base.predictive_encroachment_time(threshold))"
   ]
  }
 ],
 "metadata": {
  "kernelspec": {
   "display_name": "venv",
   "language": "python",
   "name": "python3"
  },
  "language_info": {
   "codemirror_mode": {
    "name": "ipython",
    "version": 3
   },
   "file_extension": ".py",
   "mimetype": "text/x-python",
   "name": "python",
   "nbconvert_exporter": "python",
   "pygments_lexer": "ipython3",
   "version": "3.9.2"
  }
 },
 "nbformat": 4,
 "nbformat_minor": 2
}
