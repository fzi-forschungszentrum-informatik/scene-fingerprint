{
 "cells": [
  {
   "cell_type": "markdown",
   "metadata": {},
   "source": [
    "If you are having trouble matching the vehicles to the map, you may want to do a visual check first.  \n",
    "Sometimes the projection of your dataset may differ from the UTM used here, resulting in a shift between the map and the objects.\n",
    "\n",
    "Common pitfalls:\n",
    "\n",
    "* [ ] does the projection match UTM?\n",
    "* [ ] is the reference (origin) correct (lat/lon swapped?)?\n",
    "* [ ] is object orientation in radiant?\n",
    "* [ ] is the lanelet map correct? Use [Lanelet debug routing graph](https://github.com/fzi-forschungszentrum-informatik/Lanelet2/blob/master/lanelet2_python/scripts/create_debug_routing_graph.py) to check it (older versions of the inD dataset have some bugs)\n",
    "* [ ] is the object classification (agent_type) recognized? (currently car/truck/bicyle/unknown is used)"
   ]
  },
  {
   "cell_type": "code",
   "execution_count": null,
   "metadata": {},
   "outputs": [],
   "source": [
    "from oncrit.utils.lanelet_operation import show_lanelets\n",
    "import pandas as pd\n",
    "from oncrit.utils.visualization import draw_triangle\n",
    "import matplotlib.pyplot as plt\n",
    "\n",
    "object_list_file_ind = \"../tests/data/ind_check.csv\"\n",
    "osm_map_ind = \"../tests/data/ind_check.osm\"\n",
    "map_origin_ind = (50.78562, 6.12898) # original (50.78505, 6.13070) for location4\n",
    "\n",
    "show_lanelets(osm_path=osm_map_ind, origin=map_origin_ind)\n",
    "\n",
    "pd_dataframe = pd.read_csv(object_list_file_ind)\n",
    "pd_scenario = pd_dataframe[pd_dataframe[\"recordingId\"] == 0]\n",
    "pd_scene = pd_scenario[pd_scenario[\"frame\"] == 0]\n",
    "\n",
    "for _, row in pd_scene.iterrows():\n",
    "    plt.text(row.xCenter, row.yCenter, row.trackId, fontsize=12,\n",
    "                 color=\"orange\", ha=\"center\", va=\"bottom\")\n",
    "    draw_triangle(row.xCenter, row.yCenter, row.heading *\n",
    "                  3.14159/180, width=row.width, length=row.length, color=\"blue\")"
   ]
  }
 ],
 "metadata": {
  "kernelspec": {
   "display_name": "venv",
   "language": "python",
   "name": "python3"
  },
  "language_info": {
   "codemirror_mode": {
    "name": "ipython",
    "version": 3
   },
   "file_extension": ".py",
   "mimetype": "text/x-python",
   "name": "python",
   "nbconvert_exporter": "python",
   "pygments_lexer": "ipython3",
   "version": "3.9.2"
  }
 },
 "nbformat": 4,
 "nbformat_minor": 2
}
