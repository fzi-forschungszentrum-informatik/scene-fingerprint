{
 "cells": [
  {
   "cell_type": "code",
   "execution_count": null,
   "metadata": {},
   "outputs": [],
   "source": [
    "from oncrit.utils.lanelet_operation import read_to_lanelet_map, show_lanelets, get_possible_paths, get_best_fitting_lanelet, get_centerline_of_lanelet\n",
    "from oncrit.utils.visualization import draw_triangle\n",
    "\n",
    "import matplotlib.pyplot as plt"
   ]
  },
  {
   "cell_type": "markdown",
   "metadata": {},
   "source": [
    "## Loading the Map\n",
    "Road information is given by the [Lanelet format](https://github.com/fzi-forschungszentrum-informatik/Lanelet2).\n",
    "The helper function `show_lanelets()` draws the borderlines of a map onto a Matplotlib canvas, which is used for further visualization.\n",
    "\n",
    "_After each visualisation (show/display call), the active figure is deleted. Accordingly, the road must be drawn again each time._"
   ]
  },
  {
   "cell_type": "code",
   "execution_count": null,
   "metadata": {},
   "outputs": [],
   "source": [
    "osm_path = \"../tests/data/k729_2022-03-16_fix.osm\"\n",
    "origin = (49.01160993928274,8.43856470258739)\n",
    "fig = show_lanelets(osm_path=osm_path, origin=origin)"
   ]
  },
  {
   "cell_type": "markdown",
   "metadata": {},
   "source": [
    "## Matching Traffic Participants to the Road\n",
    "Traffic participants have to be assigned to a road element within the road network. This is the basis for generating future paths, which are derived from the road centrelines.\n",
    "The matching/the alignment is done by the [Lanelet library](https://github.com/fzi-forschungszentrum-informatik/Lanelet2), which offers python bindings.\n",
    "\n",
    "In the first step the lanelet map is loaded by `read_to_lanelet_map(osm_path, origin=origin)`\n",
    "The `osm_path` is the same as used for the visualisation. This functions returns the lanelet map (`llet_map`) itself and a corresponding `routing_graph` which is later used for finding future paths.\n",
    "\n",
    "In the following example 2 objects (`obj1, obj2`) are created. \n",
    "`lanelet2.matching.getDeterministicMatches`returns a list of potential lanelets (road segments) near to the position of the given objects. Note that it is possible that multiple fitting lanelets can be found. "
   ]
  },
  {
   "cell_type": "code",
   "execution_count": null,
   "metadata": {},
   "outputs": [],
   "source": [
    "import lanelet2\n",
    "# load the lanelets as background\n",
    "show_lanelets(osm_path=osm_path, origin=origin)\n",
    "\n",
    "# loading the lanelet map\n",
    "llet_map, routing_graph = read_to_lanelet_map(osm_path, origin=origin)\n",
    "\n",
    "# obj1\n",
    "x1, y1, psi_rad1 = 16.56, 10.71, 3.42\n",
    "draw_triangle(x1, y1, psi_rad1, color=\"blue\")\n",
    "obj1 = lanelet2.matching.Object2d(1, lanelet2.matching.Pose2d(x1, y1, psi_rad1), [])\n",
    "matches1 = lanelet2.matching.getDeterministicMatches(llet_map, obj1, 1.0)\n",
    "print(matches1[0].lanelet.id, \"Distance to obj1:\", matches1[0].distance)\n",
    "\n",
    "# obj2\n",
    "x2, y2, psi_rad2 = 21.3,-20.0, 2.14\n",
    "draw_triangle(x2, y2, psi_rad2, color=\"orange\")\n",
    "obj2 = lanelet2.matching.Object2d(2, lanelet2.matching.Pose2d(x2, y2, psi_rad2), [])\n",
    "matches2 = lanelet2.matching.getDeterministicMatches(llet_map, obj2, 1.0)\n",
    "print(matches2[0].lanelet.id, \"Distance to obj2:\", matches2[0].distance)\n"
   ]
  },
  {
   "cell_type": "markdown",
   "metadata": {},
   "source": [
    "The function `get_best_fitting_lanelet` or `get_closest_lanelets_to_object` wraps the upper lanelet2 calls into a convenient macro.\n",
    "The green line shows the centre lines of the two lanelets (road segments) on which obj1 and obj2 are located.\n",
    "`get_centerline_of_lanelet` is a helper function to get the centerline."
   ]
  },
  {
   "cell_type": "code",
   "execution_count": null,
   "metadata": {},
   "outputs": [],
   "source": [
    "# load the lanelets as background\n",
    "show_lanelets(osm_path=osm_path, origin=origin)\n",
    "\n",
    "# Get closest lanelet to object\n",
    "close_lanelet1 = get_best_fitting_lanelet(llet_map=llet_map, x=x1, y=y1, phi=psi_rad1)\n",
    "close_lanelet2 = get_best_fitting_lanelet(llet_map=llet_map, x=x2, y=y2, phi=psi_rad2)\n",
    "# Visualize Centerline\n",
    "centerline_1 = get_centerline_of_lanelet(close_lanelet1)\n",
    "centerline_2 = get_centerline_of_lanelet(close_lanelet2)\n",
    "x_values_1, y_values_1 = zip(*centerline_1)\n",
    "x_values_2, y_values_2 = zip(*centerline_2)\n",
    "plt.plot(x_values_1, y_values_1, color=\"blue\")\n",
    "plt.plot(x_values_2, y_values_2, color=\"orange\")"
   ]
  },
  {
   "cell_type": "markdown",
   "metadata": {},
   "source": [
    "## Finding Possible Future Paths\n",
    "The `get_possible_paths` function returns a list of possible paths along the centerline of the successive lanelets.\n",
    "Each path is a tuple of x (`future_path[0]`) and y (`future_path[1]`) coordinates. Each path starts with the first point of the matched lanelet (`matches2[0].lanelet`).\n",
    "The argument `max_routing_cost` defines the length when to stop searching, this has impact to the calculation speed.\n",
    "If the endpoints of two trajectories are close (`< distance_threshold`), only one of them will be returned.\n",
    "The argument `smooth_value` creates a moving window to smooth the path. `smooth_value=1` returns the centerline as it is."
   ]
  },
  {
   "cell_type": "code",
   "execution_count": null,
   "metadata": {},
   "outputs": [],
   "source": [
    "# load the lanelets as background\n",
    "show_lanelets(osm_path=osm_path, origin=origin)\n",
    "\n",
    "future_paths1 = get_possible_paths(\n",
    "    matches1[0].lanelet,\n",
    "    routing_graph,\n",
    "    max_routing_cost=90,\n",
    "    distance_threshold=5,\n",
    "    smooth_value=3,\n",
    ")\n",
    "\n",
    "future_paths2 = get_possible_paths(\n",
    "    matches2[0].lanelet,\n",
    "    routing_graph,\n",
    "    max_routing_cost=90,\n",
    "    distance_threshold=5,\n",
    "    smooth_value=3,\n",
    ")\n",
    "\n",
    "for future_path in future_paths1:\n",
    "    plt.plot(future_path[0], future_path[1], color=\"blue\")\n",
    "\n",
    "for future_path in future_paths2:\n",
    "    plt.plot(future_path[0], future_path[1], color=\"orange\")"
   ]
  },
  {
   "cell_type": "markdown",
   "metadata": {},
   "source": [
    "## Trimming the LineStrings\n",
    "\n",
    "As can be seen in particular orange example, the center line of the lanelets begins well before the actual position of the traffic participant, relative to the course of the road."
   ]
  },
  {
   "cell_type": "code",
   "execution_count": null,
   "metadata": {},
   "outputs": [],
   "source": [
    "from oncrit.oncrit import Point, LineSegment, LineString, LineStringFan"
   ]
  },
  {
   "cell_type": "markdown",
   "metadata": {},
   "source": [
    "_To increase the performance of the library, all operations are outsourced to rust from this step onwards._\n",
    "\n",
    "The struct `LineStringFan` is provided for the collection of line strings.\n",
    "The struct can be filled with the member function `from_vectors`."
   ]
  },
  {
   "cell_type": "code",
   "execution_count": null,
   "metadata": {},
   "outputs": [],
   "source": [
    "fan1 = LineStringFan.from_vectors(future_paths1)\n",
    "fan2 = LineStringFan.from_vectors(future_paths2)"
   ]
  },
  {
   "cell_type": "markdown",
   "metadata": {},
   "source": [
    "The `LineStringFans` can now be shortened using a `Point`.\n",
    "\n",
    "For better performance, it is also recommended to optimise the `LineWtringFan` with the member function `optimize_linestrings()`. Here, redundant `LineSegment` are removed and only unique `Points` that do not overlap are retained in the `LinsstringFan`."
   ]
  },
  {
   "cell_type": "code",
   "execution_count": null,
   "metadata": {},
   "outputs": [],
   "source": [
    "# load the lanelets as background\n",
    "show_lanelets(osm_path=osm_path, origin=origin)\n",
    "\n",
    "p1 = Point(x1, y1)\n",
    "p2 = Point(x2, y2)\n",
    "fan1.project_and_cut(p1)\n",
    "fan2.project_and_cut(p2)\n",
    "fan1.optimize_linestrings()\n",
    "fan2.optimize_linestrings()\n",
    "\n",
    "\n",
    "list_of_linestrings1 = fan1.points_as_xy_vectors()\n",
    "list_of_linestrings2 = fan2.points_as_xy_vectors()\n",
    "for linestring in list_of_linestrings1:\n",
    "    plt.plot(linestring[0], linestring[1], color=\"blue\")\n",
    "for linestring in list_of_linestrings2:\n",
    "    plt.plot(linestring[0], linestring[1], color=\"orange\")\n",
    "\n",
    "\n",
    "draw_triangle(x1, y1, psi_rad1, color=\"blue\")\n",
    "draw_triangle(x2, y2, psi_rad2, color=\"orange\")"
   ]
  },
  {
   "cell_type": "code",
   "execution_count": null,
   "metadata": {},
   "outputs": [],
   "source": []
  }
 ],
 "metadata": {
  "kernelspec": {
   "display_name": "venv",
   "language": "python",
   "name": "python3"
  },
  "language_info": {
   "codemirror_mode": {
    "name": "ipython",
    "version": 3
   },
   "file_extension": ".py",
   "mimetype": "text/x-python",
   "name": "python",
   "nbconvert_exporter": "python",
   "pygments_lexer": "ipython3",
   "version": "3.9.2"
  }
 },
 "nbformat": 4,
 "nbformat_minor": 2
}
